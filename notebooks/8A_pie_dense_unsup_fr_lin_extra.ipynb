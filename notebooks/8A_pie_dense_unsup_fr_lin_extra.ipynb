{
 "cells": [
  {
   "cell_type": "code",
   "execution_count": 1,
   "id": "646d3d3b-573b-455c-bc98-a6d9ddef65ee",
   "metadata": {},
   "outputs": [],
   "source": [
    "%load_ext autoreload\n",
    "%autoreload 2\n",
    "%matplotlib inline"
   ]
  },
  {
   "cell_type": "code",
   "execution_count": 2,
   "id": "eb7100e2-3b3d-4621-a03b-f9cf45d75c81",
   "metadata": {},
   "outputs": [],
   "source": [
    "from __init__ import *\n",
    "\n",
    "utils.rng.set_seed()\n",
    "device = utils.gpu.set_devices(1)"
   ]
  },
  {
   "cell_type": "markdown",
   "id": "0db69499-03e8-40df-853d-941ce8a5633a",
   "metadata": {},
   "source": [
    "### Testing orthogonality in Weights"
   ]
  },
  {
   "cell_type": "code",
   "execution_count": 3,
   "id": "e5273cff-d0db-492a-a6bf-e52bb18c093d",
   "metadata": {},
   "outputs": [],
   "source": [
    "experiment_name = 'pie_dense_unsup_fr_lin'\n",
    "serialized_path = f'../serialized/experiments/{experiment_name}/'\n",
    "\n",
    "nets = {'PIE': None, 'AE': None}\n",
    "\n",
    "for cur in nets:\n",
    "    with open(f'{serialized_path}{cur}.pt', 'rb') as outfile:\n",
    "        nets[cur] = torch.load(outfile)"
   ]
  },
  {
   "cell_type": "code",
   "execution_count": 4,
   "id": "496aed2a-f59a-4503-a080-c543fec979c2",
   "metadata": {},
   "outputs": [],
   "source": [
    "weights = {\n",
    "    'PIE': {\n",
    "        'U' : nets['PIE'].net.U.affine.W.weight.detach(),\n",
    "        'V' : nets['PIE'].net.V.affine.W.weight.detach(),\n",
    "        'U.T' : nets['PIE'].net.U.affine.W.weight.detach().T,\n",
    "        'V.T' : nets['PIE'].net.V.affine.W.weight.detach().T,\n",
    "    },\n",
    "    'AE': {\n",
    "        'U' : nets['AE'].net_fwd.U.affine.W.weight.detach(),\n",
    "        'V' : nets['AE'].net_fwd.V.affine.W.weight.detach(),\n",
    "        'U.T' : nets['AE'].net_bck.U.affine.W.weight.detach().T,\n",
    "        'V.T' : nets['AE'].net_bck.V.affine.W.weight.detach().T,\n",
    "    },\n",
    "}"
   ]
  },
  {
   "cell_type": "code",
   "execution_count": 5,
   "id": "94c94718-2c76-42d2-89c2-3abb624ca3eb",
   "metadata": {},
   "outputs": [],
   "source": [
    "gramians = {}\n",
    "for k, dct in weights.items():\n",
    "    gramians[k] = {}\n",
    "    for j, w in dct.items():\n",
    "        gramians[k][j] = w.T @ w\n"
   ]
  },
  {
   "cell_type": "code",
   "execution_count": 6,
   "id": "b1a8489a-f5ec-4ca7-aa47-6ff92c928a1c",
   "metadata": {},
   "outputs": [
    {
     "data": {
      "application/vnd.jupyter.widget-view+json": {
       "model_id": "0d0e01ee4c4e4761abd8eabadbcbf9e8",
       "version_major": 2,
       "version_minor": 0
      },
      "text/plain": [
       "  0%|          | 0/10000 [00:00<?, ?it/s]"
      ]
     },
     "metadata": {},
     "output_type": "display_data"
    }
   ],
   "source": [
    "M = 784\n",
    "random_matrix_results = []\n",
    "\n",
    "for i in tqdm(range(10000)):\n",
    "    _lin = nn.Linear(M, M)\n",
    "    A = _lin.weight.detach()\n",
    "    SA = A.T @ A\n",
    "    relerr = utils.metrics.relative_error_matrix(torch.eye(M), SA, 'fro')\n",
    "    result = {'A': A, 'SA': SA, 'relative_error': relerr}\n",
    "    random_matrix_results.append(result)"
   ]
  },
  {
   "cell_type": "code",
   "execution_count": 7,
   "id": "b97ad85e-7b28-4369-b3f0-3be0c440ea7e",
   "metadata": {},
   "outputs": [],
   "source": [
    "relative_errors = [e['relative_error'].item() for e in random_matrix_results]"
   ]
  },
  {
   "cell_type": "code",
   "execution_count": 8,
   "id": "4b5e6d2e-219a-41b8-8aa1-be0dc716eb18",
   "metadata": {},
   "outputs": [
    {
     "data": {
      "image/png": "[encoded data removed]",
      "text/plain": [
       "<Figure size 468x144 with 1 Axes>"
      ]
     },
     "metadata": {
      "needs_background": "light"
     },
     "output_type": "display_data"
    }
   ],
   "source": [
    "re_mu = np.mean(relative_errors)\n",
    "re_sd = np.std(relative_errors, ddof=1)\n",
    "\n",
    "re_range = np.linspace(min(relative_errors), max(relative_errors), 2000)\n",
    "re_pdf = stats.norm.pdf(re_range, loc=re_mu, scale=re_sd)\n",
    "\n",
    "fig, ax = plt.subplots(figsize=(6.5,2))\n",
    "\n",
    "ax.plot(re_range, re_pdf, ':', color='k', label=f'pdf $\\mathcal{{N}}({re_mu:.3f}, [{re_sd:.2e}]^2)$')\n",
    "ax.hist(relative_errors, bins=100, density=True, label='REID: Initialized Matrices');\n",
    "#ax.set_title('Relative Errors w.r.t. Identity: Random Matrices');\n",
    "plt.legend();\n",
    "plt.savefig(f'../figures/other/{experiment_name}_randmatrix_histogram.pdf')\n"
   ]
  },
  {
   "cell_type": "code",
   "execution_count": 9,
   "id": "bc341921-a20f-4243-9ac8-8db56c6cad04",
   "metadata": {},
   "outputs": [
    {
     "name": "stdout",
     "output_type": "stream",
     "text": [
      "Likelihood of Observing Relative Error w.r.t. Identity:\n",
      "PIE - U           : 0.000000000000E+00\n",
      "PIE - V           : 0.000000000000E+00\n",
      "PIE - U.T         : 0.000000000000E+00\n",
      "PIE - V.T         : 0.000000000000E+00\n",
      "AE  - U           : 0.000000000000E+00\n",
      "AE  - V           : 0.000000000000E+00\n",
      "AE  - U.T         : 0.000000000000E+00\n",
      "AE  - V.T         : 0.000000000000E+00\n"
     ]
    }
   ],
   "source": [
    "# Compute likelihood of relative error observed in weights\n",
    "print(\"Likelihood of Observing Relative Error w.r.t. Identity:\")\n",
    "weights_relerr = []\n",
    "for k, dct in gramians.items():\n",
    "    for j, sa in dct.items():\n",
    "        relerr = utils.metrics.relative_error_matrix(torch.eye(M), sa, 'fro').double().item()\n",
    "        weights_relerr.append(relerr)\n",
    "        print(f\"{k:3} - {j:12}: {stats.norm.pdf(relerr, loc=re_mu, scale=re_sd):.12E}\")"
   ]
  },
  {
   "cell_type": "code",
   "execution_count": 10,
   "id": "85f54a19-3b74-4919-9a31-0501e0d02250",
   "metadata": {},
   "outputs": [
    {
     "name": "stdout",
     "output_type": "stream",
     "text": [
      "Z-scores of Relative Error Observations:\n",
      "PIE - U    : -98.3129543701532\n",
      "PIE - V    : -98.98720878519083\n",
      "PIE - U.T  : -98.3129543701532\n",
      "PIE - V.T  : -98.98720878519083\n",
      "AE  - U    : -79.64649220811974\n",
      "AE  - V    : 88.37415036095949\n",
      "AE  - U.T  : -98.4350045721394\n",
      "AE  - V.T  : -96.97281031403567\n"
     ]
    }
   ],
   "source": [
    "# Compute z-scores of results\n",
    "print(\"Z-scores of Relative Error Observations:\")\n",
    "i = 0\n",
    "for k, dct in gramians.items():\n",
    "    for j, sa in dct.items():\n",
    "        totals_relerr = relative_errors + [weights_relerr[i]]\n",
    "        z_scores = stats.zscore(totals_relerr)\n",
    "        relevant_zs = z_scores[-1]\n",
    "        print(f\"{k:3} - {j:5}: {relevant_zs}\")\n",
    "        i += 1"
   ]
  },
  {
   "cell_type": "code",
   "execution_count": 11,
   "id": "5169a690-e7fe-46e6-ba0d-26034ab3d3a6",
   "metadata": {},
   "outputs": [
    {
     "data": {
      "text/plain": [
       "[0.6097314953804016,\n",
       " 0.5694190859794617,\n",
       " 0.6097314953804016,\n",
       " 0.5694190859794617,\n",
       " 0.7121039628982544,\n",
       " 0.7929772734642029,\n",
       " 0.6044116616249084,\n",
       " 0.6451444029808044]"
      ]
     },
     "execution_count": 11,
     "metadata": {},
     "output_type": "execute_result"
    }
   ],
   "source": [
    "weights_relerr"
   ]
  },
  {
   "cell_type": "code",
   "execution_count": null,
   "id": "d3840de8-1122-4373-a7ee-5d9957c860ca",
   "metadata": {},
   "outputs": [],
   "source": []
  }
 ],
 "metadata": {
  "kernelspec": {
   "display_name": "Python 3 (ipykernel)",
   "language": "python",
   "name": "python3"
  },
  "language_info": {
   "codemirror_mode": {
    "name": "ipython",
    "version": 3
   },
   "file_extension": ".py",
   "mimetype": "text/x-python",
   "name": "python",
   "nbconvert_exporter": "python",
   "pygments_lexer": "ipython3",
   "version": "3.8.6"
  }
 },
 "nbformat": 4,
 "nbformat_minor": 5
}

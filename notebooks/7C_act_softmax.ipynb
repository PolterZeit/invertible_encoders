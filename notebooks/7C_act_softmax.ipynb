{
 "cells": [
  {
   "cell_type": "code",
   "execution_count": 1,
   "id": "51e1a221-2913-43f8-b9f1-73607c947fbb",
   "metadata": {},
   "outputs": [],
   "source": [
    "%load_ext autoreload\n",
    "%autoreload 2\n",
    "%matplotlib inline"
   ]
  },
  {
   "cell_type": "code",
   "execution_count": 2,
   "id": "49aac4d0-3210-498f-a476-5cf4a1923690",
   "metadata": {},
   "outputs": [],
   "source": [
    "from __init__ import *\n",
    "\n",
    "utils.rng.set_seed()\n",
    "device = utils.gpu.set_devices(3)"
   ]
  },
  {
   "cell_type": "code",
   "execution_count": 3,
   "id": "8625062a-d871-45de-8474-6493b3402da8",
   "metadata": {},
   "outputs": [],
   "source": [
    "# Import data\n",
    "train = datasets.get_mnist('balanced')\n",
    "test = datasets.get_mnist('balanced', train=False)\n",
    "\n",
    "# Get data parameters\n",
    "N = len(train)\n",
    "M = np.prod(train.size)\n",
    "\n",
    "# Set training parameters and loader\n",
    "batch_size = 32\n",
    "epochs = 12\n",
    "nu = 0.0001\n",
    "loader = torch.utils.data.DataLoader(\n",
    "    train, batch_size=batch_size, shuffle=True, pin_memory=True\n",
    ")\n",
    "\n",
    "# Initialize experiment dictionaries\n",
    "loss_trace = {}\n",
    "nets = {}\n",
    "opts = {}\n",
    "\n",
    "# Set experiment name\n",
    "experiment_name = 'act_softmax'"
   ]
  },
  {
   "cell_type": "code",
   "execution_count": 4,
   "id": "7b721b92-9b1f-43d4-a4ef-b85e742138c7",
   "metadata": {},
   "outputs": [],
   "source": [
    "# Initialize dimensions, models, parameters and optimizers\n",
    "dims = [M, 835, 835, len(train.classes)]\n",
    "\n",
    "model_kwargs = {\n",
    "    'activation_params': {},\n",
    "    'device': device\n",
    "}\n",
    "\n",
    "nets = {\n",
    "    \"Softmax\": modules.AdjointSequential(\n",
    "        models.dense.AdjointDense(dims, activation=nn.ReLU, **model_kwargs),\n",
    "        nn.Softmax(-1),\n",
    "    ).to(device),\n",
    "    \"DSM_a140\": modules.AdjointSequential(\n",
    "        models.dense.AdjointDense(dims, activation=nn.ReLU, **model_kwargs),\n",
    "        modules.DirichletSoftmax(len(train.classes), alpha=1.4),\n",
    "    ).to(device),\n",
    "}\n",
    "\n",
    "# Initialize with same parameters\n",
    "for k, model in nets.items():\n",
    "    loss_trace[k] = {}\n",
    "    if k != 'Softmax':\n",
    "        nets[k][0].net.V.weight.data = nets['Softmax'][0].net.V.weight.data.clone()\n",
    "        nets[k][0].net.W1.weight.data = nets['Softmax'][0].net.W1.weight.data.clone()\n",
    "        nets[k][0].net.U.weight.data = nets['Softmax'][0].net.U.weight.data.clone()\n",
    "    opts[k] = torch.optim.Adam(model.parameters() , lr=nu)\n",
    "    "
   ]
  },
  {
   "cell_type": "code",
   "execution_count": 5,
   "id": "3855c1a5-380b-4970-bbcc-22472ded681a",
   "metadata": {},
   "outputs": [],
   "source": [
    "# Define objective function\n",
    "\n",
    "def objective_function(x, xh, params=None, l2_lambda=1e-6, reduction='mean'):\n",
    "    losses = {}\n",
    "\n",
    "    if params is not None:\n",
    "        losses['l2'] = torch.tensor(0.).to(x.device)\n",
    "        for param in params:\n",
    "            losses['l2'] += torch.norm(param)\n",
    "        losses['l2'] *= l2_lambda\n",
    "    \n",
    "    losses['lx'] = F.binary_cross_entropy(xh, x, reduction=reduction)\n",
    "    losses['l'] = sum(losses.values())\n",
    "    return losses['l'], losses"
   ]
  },
  {
   "cell_type": "code",
   "execution_count": 6,
   "id": "d7d021d1-59c3-46f7-a77a-cd82b85b45c8",
   "metadata": {},
   "outputs": [
    {
     "name": "stdout",
     "output_type": "stream",
     "text": [
      "Number of Parameters:\n",
      "No. params Softmax :  1393662\n",
      "No. params DSM_a140:  1393662\n"
     ]
    }
   ],
   "source": [
    "# Print no. parameters\n",
    "print(\"Number of Parameters:\")\n",
    "for k in nets.keys():\n",
    "    print(f\"No. params {k:8}:  {utils.metrics.no_parameters(nets[k])}\")"
   ]
  },
  {
   "cell_type": "code",
   "execution_count": 7,
   "id": "a4136df6-2e54-4778-b8af-3bb376ab4fec",
   "metadata": {},
   "outputs": [],
   "source": [
    "# Set examples for training, testing and visualization\n",
    "sample_indices_small = np.array([0, 3, 42, 85, 666, 1001, 6969, 31415])\n",
    "\n",
    "# Convert sample indices to tensors\n",
    "xims = torch.tensor(train.data[sample_indices_small]).float() / 255\n",
    "xs = xims.flatten(-2, -1).to(device)\n",
    "xt = torch.tensor(test.data).float().flatten(-2, -1).to(device) / 255\n",
    "\n",
    "index_matrix = torch.eye(len(train.classes)).to(device)\n",
    "yt = index_matrix[test.targets]"
   ]
  },
  {
   "cell_type": "code",
   "execution_count": 8,
   "id": "408df215-816c-4864-a416-5fe70fd5c4d1",
   "metadata": {},
   "outputs": [
    {
     "name": "stdout",
     "output_type": "stream",
     "text": [
      "m Softmax    e   11 i   3500 lx 7.913E-03 l 7.913E-03 lt 1.564E-02 \n",
      "m DSM_a140   e   11 i   3500 lx 1.265E-02 l 1.265E-02 lt 3.397E-02 \n"
     ]
    }
   ],
   "source": [
    "# Training loop\n",
    "\n",
    "for e in range(epochs):\n",
    "    i = 0\n",
    "    for x, _y in loader:\n",
    "        x = x[:,0,:,:].flatten(-2, -1).to(device)\n",
    "        y = index_matrix[_y]\n",
    "        xhs = {}\n",
    "        ldicts = {}\n",
    "        \n",
    "        for m, cur in enumerate(nets):\n",
    "            # Reset gradients and do forward pass\n",
    "            opts[cur].zero_grad()\n",
    "            yh = nets[cur](x)\n",
    "            \n",
    "            if cur.startswith('DSM'):\n",
    "                yh = yh[0]\n",
    "            \n",
    "            # Calculate loss\n",
    "            loss, ldicts[cur] = objective_function(y, yh)\n",
    "\n",
    "            loss.backward()\n",
    "            opts[cur].step()\n",
    "            \n",
    "            # Validation\n",
    "            with torch.no_grad():\n",
    "                yht = nets[cur](xt)\n",
    "                if cur.startswith('DSM'):\n",
    "                    yht = yht[0]\n",
    "                ldicts[cur]['lt'] = F.binary_cross_entropy(yht.clip(0, 1), yt, reduction='mean').cpu()\n",
    "\n",
    "            # Reporting\n",
    "            for k, v in ldicts[cur].items():\n",
    "                \n",
    "                if k not in loss_trace[cur]:\n",
    "                    loss_trace[cur][k] = []\n",
    "\n",
    "                loss_trace[cur][k].append(v.cpu())\n",
    "\n",
    "\n",
    "        # Plot and Report\n",
    "        if i % 50 == 0:\n",
    "            clear_output(wait=True)\n",
    "            for cur in nets.keys():\n",
    "                with torch.no_grad():\n",
    "                    #ys = nets[cur](xs)\n",
    "                    print(utils.reporting.generate_report(cur, e, i, ldicts[cur]))\n",
    "            \n",
    "        i += 1"
   ]
  },
  {
   "cell_type": "code",
   "execution_count": 20,
   "id": "97d743bb-235c-45da-a010-982445a0b1af",
   "metadata": {},
   "outputs": [
    {
     "data": {
      "image/png": "[encoded data removed]",
      "text/plain": [
       "<Figure size 468x216 with 1 Axes>"
      ]
     },
     "metadata": {
      "needs_background": "light"
     },
     "output_type": "display_data"
    }
   ],
   "source": [
    "# Convert trace to numpy\n",
    "np_loss_trace = {}\n",
    "for k in loss_trace:\n",
    "    np_loss_trace[k] = {}\n",
    "    for l in loss_trace[k]:\n",
    "        np_loss_trace[k][l] = np.array([v.item() for v in loss_trace[k][l]])\n",
    "\n",
    "# Plot overall loss\n",
    "for k in nets.keys():\n",
    "    ws = 1001\n",
    "    mu, std = utils.metrics.rolling_stats(np_loss_trace[k][\"lx\"], winsize=ws) \n",
    "\n",
    "    if k.startswith('DSM'):\n",
    "        kname = 'DST'\n",
    "    else:\n",
    "        kname = k\n",
    "\n",
    "    p = plt.plot(\n",
    "        np_loss_trace[k][\"lt\"][ws//2:-ws//2], \n",
    "        linewidth=.5, \n",
    "        label=f\"$\\mathrm{{Validation\\,\\,{kname}}}$\", \n",
    "        alpha=1, \n",
    "    )\n",
    "    color = p[0].get_color()\n",
    "    # plt.fill_between(\n",
    "    #     np.arange(len(mu[ws//2:-ws//2])), \n",
    "    #     (mu - 1*std)[ws//2:-ws//2], \n",
    "    #     (mu + 1*std)[ws//2:-ws//2],\n",
    "    #     color=color, \n",
    "    #     alpha=0.2,\n",
    "    # )    \n",
    "        \n",
    "plt.legend()\n",
    "plt.xlabel('$\\mathrm{Iterations}$')\n",
    "plt.ylabel('$\\mathrm{Loss}$')\n",
    "plt.ylim(0.005, 0.1)\n",
    "plt.yscale(\"log\")\n",
    "plt.savefig(f'../figures/training/{experiment_name}.pdf')"
   ]
  },
  {
   "cell_type": "code",
   "execution_count": 10,
   "id": "5bf1b681-2905-4962-aa85-45287c9afb8c",
   "metadata": {},
   "outputs": [],
   "source": [
    "# Move models to CPU\n",
    "for cur, model in nets.items():\n",
    "    nets[cur] = model.to('cpu')\n",
    "    nets[cur].eval()\n",
    "    nets[cur].train(False)\n",
    "    del model\n",
    "    \n",
    "    \n",
    "torch.cuda.empty_cache()"
   ]
  },
  {
   "cell_type": "code",
   "execution_count": 11,
   "id": "a5ab09ee-4ea1-4c5b-9ba3-7a84a4faf396",
   "metadata": {},
   "outputs": [
    {
     "name": "stdout",
     "output_type": "stream",
     "text": [
      "Relative Error:\n",
      "Softmax : RE 2.436241E-01 BCE 1.577098E-02 Acc 8.579255E-01 Ac5 9.882447E-01 \n",
      "DSM_a140: RE 3.187726E-01 BCE 3.390207E-02 Acc 8.307447E-01 Ac5 9.824468E-01 \n"
     ]
    }
   ],
   "source": [
    "# Calculate relative error on test data\n",
    "test_tensor = torch.tensor(test.data.astype(float) / 255).flatten(-2, -1).float()\n",
    "\n",
    "print(f\"Relative Error:\")\n",
    "for k, model in nets.items():\n",
    "    yth = model(test_tensor)\n",
    "    if k.startswith('DSM'):\n",
    "        yth = yth[0]\n",
    "    print(\n",
    "        f\"{k:8}: \" + \n",
    "        f\"RE {utils.metrics.relative_error(yt.cpu(), yth, reduction='mean'):4E} \" +\n",
    "        f\"BCE {F.binary_cross_entropy(yth, yt.cpu(), reduction='mean'):4E} \" +\n",
    "        f\"Acc {utils.metrics.top_k_accuracy(yth, yt, k=1):4E} \" +\n",
    "        f\"Ac5 {utils.metrics.top_k_accuracy(yth, yt):4E} \"\n",
    "    )"
   ]
  },
  {
   "cell_type": "code",
   "execution_count": 12,
   "id": "a9c32434-bfbe-4bbc-b8cf-f6cc4c4a0d33",
   "metadata": {},
   "outputs": [
    {
     "name": "stdout",
     "output_type": "stream",
     "text": [
      "Lipschitz Constants:\n",
      "Softmax  8.296119E+03\n",
      "DSM_a140 3.817129E+04\n"
     ]
    }
   ],
   "source": [
    "# Calculate actual Lipshitz constants / spectral norms\n",
    "print(\"Lipschitz Constants:\")\n",
    "for k, model in nets.items():\n",
    "    dct = model[0].get_weight_dict()\n",
    "    lipschitz_constants = torch.tensor([\n",
    "        torch.svd(w)[1][0]\n",
    "        for w in dct.values()\n",
    "    ])\n",
    "    lipschitz_product = torch.prod(lipschitz_constants)\n",
    "\n",
    "    # To account for activation, we need to multiply by the Lipschitz constants\n",
    "    # The softmax function has an approx upper Lipschitz bound of sqrt(K-1)/K\n",
    "\n",
    "    lipschitz_product *= (dims[-1] - 1)**.5 / dims[-1]\n",
    "    print(f'{k:8} {lipschitz_product.item():5E}')"
   ]
  },
  {
   "cell_type": "code",
   "execution_count": 13,
   "id": "ecbbafe4-49ed-47f8-87ce-4ab67be3e0c7",
   "metadata": {},
   "outputs": [
    {
     "data": {
      "application/vnd.jupyter.widget-view+json": {
       "model_id": "020f699c3c60461ca01bf9cc59d4b26d",
       "version_major": 2,
       "version_minor": 0
      },
      "text/plain": [
       "  0%|          | 0/1000 [00:00<?, ?it/s]"
      ]
     },
     "metadata": {},
     "output_type": "display_data"
    },
    {
     "data": {
      "application/vnd.jupyter.widget-view+json": {
       "model_id": "cb4cf38ebd884f1581d8735bbf4574ad",
       "version_major": 2,
       "version_minor": 0
      },
      "text/plain": [
       "  0%|          | 0/1000 [00:00<?, ?it/s]"
      ]
     },
     "metadata": {},
     "output_type": "display_data"
    }
   ],
   "source": [
    "# Move models to GPU\n",
    "for k in nets:\n",
    "    nets[k] = nets[k].to(device)\n",
    "\n",
    "# Calculate estimated Jacobian from test data\n",
    "# NOTE: This process can take upwards of 10 minutes\n",
    "no_cond = 1000\n",
    "_x = test_tensor.clone()[:no_cond].to(device)\n",
    "_x.requires_grad = True\n",
    "Js = {}\n",
    "for k, model in nets.items():\n",
    "    Js[k] = torch.zeros(no_cond, len(train.classes), M)\n",
    "    if k == 'Softmax':\n",
    "        for i in tqdm(range(no_cond)):\n",
    "            model.zero_grad()\n",
    "            Js[k][i] = torch.autograd.functional.jacobian(\n",
    "                lambda x: model(x),\n",
    "                _x[i]\n",
    "        ).cpu().detach()\n",
    "    else:\n",
    "        for i in tqdm(range(no_cond)):\n",
    "            model.zero_grad()\n",
    "            Js[k][i] = torch.autograd.functional.jacobian(\n",
    "                lambda x: model(x)[0],\n",
    "                _x[i]\n",
    "        ).cpu().detach()\n",
    "\n",
    "# Move models to CPU\n",
    "for k in nets:\n",
    "    nets[k] = nets[k].to('cpu')\n",
    "\n",
    "# Move samples to CPU\n",
    "_x = _x.to('cpu')"
   ]
  },
  {
   "cell_type": "code",
   "execution_count": 14,
   "id": "79d7a076-1324-46bc-9564-31db6921d1a4",
   "metadata": {},
   "outputs": [
    {
     "name": "stdout",
     "output_type": "stream",
     "text": [
      "Jacobian Relative Condition Numbers (L2 Norm):\n",
      "Softmax rel_cond: 9.843923E+00\n",
      "DSM_a140 rel_cond: 1.098490E+01\n"
     ]
    }
   ],
   "source": [
    "print(\"Jacobian Relative Condition Numbers (L2 Norm):\")\n",
    "for k, J in Js.items():\n",
    "    if k == 'Softmax':\n",
    "        _xh = nets[k](_x)\n",
    "    else:\n",
    "        _xh = nets[k](_x)[0]\n",
    "    relnorm = torch.mean(\n",
    "        torch.linalg.norm(J, dim=(1,2), ord=2) / (torch.linalg.norm(_xh, dim=1, ord=2) / torch.linalg.norm(_x, dim=1, ord=2))\n",
    "    )\n",
    "    print(f\"{k:3} rel_cond: {relnorm:.6E}\") "
   ]
  },
  {
   "cell_type": "code",
   "execution_count": 15,
   "id": "34952fb2-de74-4dc5-ae4a-da18dcd1f077",
   "metadata": {},
   "outputs": [],
   "source": [
    "# Move models to GPU\n",
    "for k in nets:\n",
    "    nets[k] = nets[k].to(device)\n",
    "\n",
    "# Estimate Condition Number using Adverserial Perturbation\n",
    "rs = {}\n",
    "opts_p = {}\n",
    "epochs = 3\n",
    "loss_trace_p = {}\n",
    "for k in nets.keys():\n",
    "    loss_trace_p[k] = {'l': [], 'lphi': []}\n",
    "    rs[k] = nn.Parameter(torch.randn(M).to(device))\n",
    "    _zs = torch.sum(rs[k] == 0)\n",
    "    while _zs > 0:\n",
    "        rs[k][rs[k] == 0] = nn.Parameter(torch.random.randn(_zs))\n",
    "        _zs = torch.sum(rs[k] == 0)\n",
    "    nets[k].eval()\n",
    "    opts_p[k] = torch.optim.Adam([rs[k]])"
   ]
  },
  {
   "cell_type": "code",
   "execution_count": 16,
   "id": "5dc20ee8-ffb8-4ca7-adf0-3d5d0f85a6bf",
   "metadata": {},
   "outputs": [],
   "source": [
    "# Define Perturbation Objective\n",
    "def perturbation_objective(xe, xh):\n",
    "    losses = {}\n",
    "    \n",
    "    lphi = -F.binary_cross_entropy_with_logits(xe, xh)\n",
    "    losses['lphi'] = lphi\n",
    "\n",
    "    return sum(losses.values()), losses"
   ]
  },
  {
   "cell_type": "code",
   "execution_count": 17,
   "id": "57a46ae4-4e43-4bca-8bb8-1b64e9cb547d",
   "metadata": {},
   "outputs": [
    {
     "name": "stdout",
     "output_type": "stream",
     "text": [
      "m Softmax    e    1 i   3500 lphi -6.935E-01 lt 6.886E-01 lte 6.944E-01 \n",
      "m DSM_a140   e    1 i   3500 lphi -6.934E-01 lt 6.898E-01 lte 6.954E-01 \n"
     ]
    }
   ],
   "source": [
    "# Training loop\n",
    "\n",
    "for e in range(2):\n",
    "    i = 0\n",
    "    for x, _y in loader:\n",
    "        x = x[:,0,:,:].flatten(-2, -1).to(device)\n",
    "        y = index_matrix[_y]\n",
    "        xhs = {}\n",
    "        ldicts = {}\n",
    "        for m, cur in enumerate(nets):\n",
    "            # Reset gradients and do forward pass\n",
    "            opts_p[cur].zero_grad()\n",
    "            r = utils.projection.project_into_ball(rs[cur], 1, 2)\n",
    "\n",
    "            if cur == 'Softmax':\n",
    "                yh = nets[cur](x)\n",
    "                ye = nets[cur](x + r)\n",
    "                \n",
    "            else:\n",
    "                yh = nets[cur](x)[0]\n",
    "                ye = nets[cur](x + r)[0]\n",
    "\n",
    "            # Calculate loss\n",
    "            loss, ldicts[cur] = perturbation_objective(ye, yh)\n",
    "\n",
    "            loss.backward()\n",
    "            opts_p[cur].step()\n",
    "            \n",
    "            # Validation\n",
    "            with torch.no_grad():\n",
    "                if cur == 'Softmax':\n",
    "                    yht = nets[cur](xt)\n",
    "                    yhte = nets[cur](xt + r)\n",
    "                else:\n",
    "                    yht = nets[cur](xt)[0]\n",
    "                    yhte = nets[cur](xt + r)[0]\n",
    "                \n",
    "                ldicts[cur]['lt'] = F.binary_cross_entropy_with_logits(yht, yt, reduction='mean')\n",
    "                ldicts[cur]['lte'] = F.binary_cross_entropy_with_logits(yhte, yt, reduction='mean')\n",
    "\n",
    "        # Plot and Report\n",
    "        if i % 50 == 0:\n",
    "            clear_output(wait=True)\n",
    "            for cur in nets.keys():\n",
    "                with torch.no_grad():\n",
    "                    ys = nets[cur](xs)\n",
    "                    print(utils.reporting.generate_report(cur, e, i, ldicts[cur]))\n",
    "            \n",
    "        i += 1"
   ]
  },
  {
   "cell_type": "code",
   "execution_count": 18,
   "id": "8a7ad734-a14e-44b9-9d8f-e8b11c5f0c75",
   "metadata": {},
   "outputs": [
    {
     "name": "stdout",
     "output_type": "stream",
     "text": [
      "Relative Cond:\n",
      "Softmax: 0.593449 0.098739 24.194941\n",
      "DSM_a140: 0.654810 0.098739 26.696594\n"
     ]
    }
   ],
   "source": [
    "# Move models to CPU\n",
    "for cur, model in nets.items():\n",
    "    nets[cur] = model.to('cpu')\n",
    "\n",
    "print(f\"Relative Cond:\")\n",
    "\n",
    "for k, model in nets.items():\n",
    "    r = utils.projection.project_into_ball(rs[k].cpu(), 1, 2)\n",
    "    \n",
    "    if k == 'Softmax':\n",
    "        XE = model(test_tensor + r)\n",
    "        XH = model(test_tensor)\n",
    "\n",
    "    else:\n",
    "        XE = model(test_tensor + r)[0]\n",
    "        XH = model(test_tensor)[0]\n",
    "\n",
    "    rerr_psi = utils.metrics.relative_error(XH, XE, reduction='mean')\n",
    "    rerr_x = utils.metrics.relative_error(test_tensor, test_tensor + r, reduction='mean')\n",
    "    cond_no = utils.metrics.relative_cond_no(XH, XE, test_tensor, r, reduction='mean')\n",
    "    \n",
    "    print(f\"{k:6}: {rerr_psi.item():2.6f} {rerr_x.item():2.6f} {cond_no.item():2.6f}\")"
   ]
  },
  {
   "cell_type": "code",
   "execution_count": 21,
   "id": "614d5d9a-4cdf-4d1c-9a03-339c5361d532",
   "metadata": {},
   "outputs": [],
   "source": [
    "# Save models\n",
    "\n",
    "serialized_path = f'../serialized/experiments/{experiment_name}/'\n",
    "if not os.path.isdir(serialized_path):\n",
    "    os.mkdir(serialized_path)\n",
    "\n",
    "for name, model in nets.items():\n",
    "    with open(f'{serialized_path}{name}.pt', 'wb') as outfile:\n",
    "        torch.save(model, outfile)"
   ]
  },
  {
   "cell_type": "code",
   "execution_count": 22,
   "id": "e05cae6a-5cae-4c46-9355-1de118ea2bae",
   "metadata": {},
   "outputs": [],
   "source": [
    "# Save training results\n",
    "\n",
    "with open(f'{serialized_path}training.pickle', 'wb') as outfile:\n",
    "    pickle.dump(np_loss_trace, outfile)"
   ]
  },
  {
   "cell_type": "code",
   "execution_count": null,
   "id": "fe8e15a8-7635-4fbf-ba79-13f733c94096",
   "metadata": {},
   "outputs": [],
   "source": []
  }
 ],
 "metadata": {
  "kernelspec": {
   "display_name": "Python 3 (ipykernel)",
   "language": "python",
   "name": "python3"
  },
  "language_info": {
   "codemirror_mode": {
    "name": "ipython",
    "version": 3
   },
   "file_extension": ".py",
   "mimetype": "text/x-python",
   "name": "python",
   "nbconvert_exporter": "python",
   "pygments_lexer": "ipython3",
   "version": "3.9.5"
  }
 },
 "nbformat": 4,
 "nbformat_minor": 5
}
